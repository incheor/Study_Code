{
 "cells": [
  {
   "cell_type": "markdown",
   "metadata": {},
   "source": [
    "## 데이터 분석 전 학습\n",
    "#### 리스트와 행렬의 차이점\n",
    "- 행렬구조에 특화된 넘파이 모듈에 대해 알아보기\n",
    "- 행렬은 행과 영의 갯수가 인덱싱마다 같아야 하고,\n",
    "- 연산시 자료형의 성격이 같아야 함\n",
    "\n",
    "- list: 사용자가 막 사용할수 있도록 만든 구조(입력하기 사용)\n",
    "- array: 계산에 최적화 된 행과 열 처리 사용 기법(속도가 빠름, GPU등, 게임 필수)\n",
    "- numpy: array에 최적화된 연산식 계산 모듈"
   ]
  },
  {
   "cell_type": "markdown",
   "metadata": {},
   "source": [
    "## import\n",
    "> numpy / matplotlib / Image / os / shutil"
   ]
  },
  {
   "cell_type": "code",
   "execution_count": 36,
   "metadata": {},
   "outputs": [],
   "source": [
    "import numpy as np\n",
    "import matplotlib.pyplot as plt # 차트 처리\n",
    "from PIL import Image # 이미지 처리\n",
    "import os\n",
    "import glob # 폴더 내 목록보기\n",
    "import shutil # 파일 또는 폴더 복사"
   ]
  },
  {
   "cell_type": "markdown",
   "metadata": {},
   "source": [
    "## array 기본"
   ]
  },
  {
   "cell_type": "code",
   "execution_count": 37,
   "metadata": {},
   "outputs": [
    {
     "name": "stdout",
     "output_type": "stream",
     "text": [
      "2\n",
      "3\n",
      "(2, 3)\n",
      "(2, 3)\n",
      "[[ 4  5  6]\n",
      " [24 35 46]]\n",
      "[[101 101 101]\n",
      " [102 102 102]\n",
      " [103 103 103]]\n",
      "[[100 100 100]\n",
      " [200 200 200]\n",
      " [300 300 300]]\n"
     ]
    }
   ],
   "source": [
    "x = [[2, 3, 4], [22, 33, 44]]\n",
    "y = np.array(x) + 2 # numpy.array(리스트명) : 리스트를 행렬로 만듬\n",
    "\n",
    "print(len(y)) # len(리스트명) : 행렬의 행의 갯수 == 2\n",
    "print(len(y[0])) # len(리스트명[0]) : 행렬의 열의 갯수 == 3\n",
    "print(np.shape(y)) # 행렬의 구조 == 2행 3열\n",
    "print(y.shape) # np.shape() 처럼 행렬의 구조\n",
    "print(y)\n",
    "\n",
    "x = [[1,1,1],[2,2,2],[3,3,3]]\n",
    "values = 100\n",
    "y = np.array(x)\n",
    "print(y + 100)\n",
    "print(y * values)"
   ]
  },
  {
   "cell_type": "code",
   "execution_count": 38,
   "metadata": {},
   "outputs": [
    {
     "data": {
      "text/plain": [
       "<matplotlib.image.AxesImage at 0x1fa5944fd30>"
      ]
     },
     "execution_count": 38,
     "metadata": {},
     "output_type": "execute_result"
    },
    {
     "data": {
      "image/png": "[encoded data removed]",
      "text/plain": [
       "<Figure size 432x288 with 1 Axes>"
      ]
     },
     "metadata": {
      "needs_background": "light"
     },
     "output_type": "display_data"
    }
   ],
   "source": [
    "x = [[0, 255, 100], [255, 100, 255]]\n",
    "plt.imshow(x,cmap='gray')"
   ]
  },
  {
   "cell_type": "markdown",
   "metadata": {},
   "source": [
    "## 브로드캐스팅\n",
    "조건: 두 배열이 뒤에서부터 대응하는 축의 크기가 동일하거나, 1 이어야만 함. 만약 조건이 충족되지 않으면 ValueError가 발생함\n",
    "- 아래 예시에서는 맨 뒤는 5로 동일하고, 1과 4는 둘 중 하나가 1이라서 가능"
   ]
  },
  {
   "cell_type": "code",
   "execution_count": 39,
   "metadata": {},
   "outputs": [
    {
     "name": "stdout",
     "output_type": "stream",
     "text": [
      "(4, 5)\n"
     ]
    },
    {
     "data": {
      "text/plain": [
       "array([[[  0,   1,   4,   9,  16],\n",
       "        [  0,   6,  14,  24,  36],\n",
       "        [  0,  11,  24,  39,  56],\n",
       "        [  0,  16,  34,  54,  76]],\n",
       "\n",
       "       [[  0,   6,  14,  24,  36],\n",
       "        [ 25,  36,  49,  64,  81],\n",
       "        [ 50,  66,  84, 104, 126],\n",
       "        [ 75,  96, 119, 144, 171]],\n",
       "\n",
       "       [[  0,  11,  24,  39,  56],\n",
       "        [ 50,  66,  84, 104, 126],\n",
       "        [100, 121, 144, 169, 196],\n",
       "        [150, 176, 204, 234, 266]]])"
      ]
     },
     "execution_count": 39,
     "metadata": {},
     "output_type": "execute_result"
    }
   ],
   "source": [
    "arr1 = np.arange(15).reshape(3, 1, 5)\n",
    "arr2 = np.arange(20).reshape(   4, 5)\n",
    "print(np.shape(arr2))\n",
    "arr1 * arr2"
   ]
  },
  {
   "cell_type": "markdown",
   "metadata": {},
   "source": [
    "## 파일 또는 폴더 복사하기\n",
    "> os, glob"
   ]
  },
  {
   "cell_type": "code",
   "execution_count": 40,
   "metadata": {},
   "outputs": [
    {
     "name": "stdout",
     "output_type": "stream",
     "text": [
      "['gold.jpg', 'money.jpg', 'papago.png', 'python.jpg', 'testFolder_01', 'testFolder_02']\n",
      "['pic\\\\testFolder_01', 'pic\\\\testFolder_02']\n",
      "['pic\\\\testFolder_01', 'pic\\\\testFolder_02']\n"
     ]
    }
   ],
   "source": [
    "folderName = './pic'\n",
    "file_list = os.listdir(folderName)\n",
    "print(file_list)\n",
    "\n",
    "# filter(os.path.isdir, glob.glob('./*'))\n",
    "dataList = glob.glob('pic/*') # 여기부터는 glob 라이브러리 사용\n",
    "folderList = list()\n",
    "for i in dataList:\n",
    "    if '.' not in i[4:]: # . (확장자)이 없으면 폴더\n",
    "        folderList.append(i)\n",
    "print(folderList)\n",
    "\n",
    "folderList = list()\n",
    "for i in dataList:\n",
    "    if len(i.split('.')) == 1: # 이건 split() 함수 사용\n",
    "        folderList.append(i) # . 으로 나눴을 때 1이면 . 이 없는 것(안 나눠짐)\n",
    "print(folderList)"
   ]
  },
  {
   "cell_type": "markdown",
   "metadata": {},
   "source": [
    "## 파일의 이미지 불러오기\n",
    "> pillow"
   ]
  },
  {
   "cell_type": "code",
   "execution_count": 41,
   "metadata": {},
   "outputs": [
    {
     "name": "stdout",
     "output_type": "stream",
     "text": [
      "[[[152  84  21]\n",
      "  [185 110  28]\n",
      "  [197 124  31]\n",
      "  ...\n",
      "  [139  41   0]\n",
      "  [164  61   5]\n",
      "  [199 133  35]]\n",
      "\n",
      " [[145  78  18]\n",
      "  [184 109  28]\n",
      "  [197 124  31]\n",
      "  ...\n",
      "  [146  55   6]\n",
      "  [146  48   1]\n",
      "  [197 125  31]]\n",
      "\n",
      " [[136  73  18]\n",
      "  [184 109  28]\n",
      "  [197 124  30]\n",
      "  ...\n",
      "  [148  62  10]\n",
      "  [137  43   4]\n",
      "  [195 115  19]]\n",
      "\n",
      " ...\n",
      "\n",
      " [[ 55  13   6]\n",
      "  [139  77  21]\n",
      "  [177 111  27]\n",
      "  ...\n",
      "  [196 127  30]\n",
      "  [176 103  23]\n",
      "  [184 115  26]]\n",
      "\n",
      " [[ 88  38  11]\n",
      "  [166 101  29]\n",
      "  [180 115  31]\n",
      "  ...\n",
      "  [181 108  23]\n",
      "  [179 108  26]\n",
      "  [205 144  40]]\n",
      "\n",
      " [[116  55  17]\n",
      "  [175 110  31]\n",
      "  [181 116  30]\n",
      "  ...\n",
      "  [175 102  20]\n",
      "  [198 133  34]\n",
      "  [221 176  58]]]\n",
      "[[[152  84  21]\n",
      "  [185 110  28]\n",
      "  [197 124  31]\n",
      "  ...\n",
      "  [139  41   0]\n",
      "  [164  61   5]\n",
      "  [199 133  35]]\n",
      "\n",
      " [[145  78  18]\n",
      "  [184 109  28]\n",
      "  [197 124  31]\n",
      "  ...\n",
      "  [146  55   6]\n",
      "  [146  48   1]\n",
      "  [197 125  31]]\n",
      "\n",
      " [[136  73  18]\n",
      "  [184 109  28]\n",
      "  [197 124  30]\n",
      "  ...\n",
      "  [148  62  10]\n",
      "  [137  43   4]\n",
      "  [195 115  19]]\n",
      "\n",
      " ...\n",
      "\n",
      " [[ 55  13   6]\n",
      "  [139  77  21]\n",
      "  [177 111  27]\n",
      "  ...\n",
      "  [196 127  30]\n",
      "  [176 103  23]\n",
      "  [184 115  26]]\n",
      "\n",
      " [[ 88  38  11]\n",
      "  [166 101  29]\n",
      "  [180 115  31]\n",
      "  ...\n",
      "  [181 108  23]\n",
      "  [179 108  26]\n",
      "  [205 144  40]]\n",
      "\n",
      " [[116  55  17]\n",
      "  [175 110  31]\n",
      "  [181 116  30]\n",
      "  ...\n",
      "  [175 102  20]\n",
      "  [198 133  34]\n",
      "  [221 176  58]]]\n",
      "[[[152  84  21]\n",
      "  [185 110  28]\n",
      "  [197 124  31]\n",
      "  ...\n",
      "  [139  41   0]\n",
      "  [164  61   5]\n",
      "  [199 133  35]]\n",
      "\n",
      " [[145  78  18]\n",
      "  [184 109  28]\n",
      "  [197 124  31]\n",
      "  ...\n",
      "  [146  55   6]\n",
      "  [146  48   1]\n",
      "  [197 125  31]]\n",
      "\n",
      " [[136  73  18]\n",
      "  [184 109  28]\n",
      "  [197 124  30]\n",
      "  ...\n",
      "  [148  62  10]\n",
      "  [137  43   4]\n",
      "  [195 115  19]]\n",
      "\n",
      " ...\n",
      "\n",
      " [[ 55  13   6]\n",
      "  [139  77  21]\n",
      "  [177 111  27]\n",
      "  ...\n",
      "  [196 127  30]\n",
      "  [176 103  23]\n",
      "  [184 115  26]]\n",
      "\n",
      " [[ 88  38  11]\n",
      "  [166 101  29]\n",
      "  [180 115  31]\n",
      "  ...\n",
      "  [181 108  23]\n",
      "  [179 108  26]\n",
      "  [205 144  40]]\n",
      "\n",
      " [[116  55  17]\n",
      "  [175 110  31]\n",
      "  [181 116  30]\n",
      "  ...\n",
      "  [175 102  20]\n",
      "  [198 133  34]\n",
      "  [221 176  58]]]\n",
      "[[[152  84  21]\n",
      "  [185 110  28]\n",
      "  [197 124  31]\n",
      "  ...\n",
      "  [139  41   0]\n",
      "  [164  61   5]\n",
      "  [199 133  35]]\n",
      "\n",
      " [[145  78  18]\n",
      "  [184 109  28]\n",
      "  [197 124  31]\n",
      "  ...\n",
      "  [146  55   6]\n",
      "  [146  48   1]\n",
      "  [197 125  31]]\n",
      "\n",
      " [[136  73  18]\n",
      "  [184 109  28]\n",
      "  [197 124  30]\n",
      "  ...\n",
      "  [148  62  10]\n",
      "  [137  43   4]\n",
      "  [195 115  19]]\n",
      "\n",
      " ...\n",
      "\n",
      " [[ 55  13   6]\n",
      "  [139  77  21]\n",
      "  [177 111  27]\n",
      "  ...\n",
      "  [196 127  30]\n",
      "  [176 103  23]\n",
      "  [184 115  26]]\n",
      "\n",
      " [[ 88  38  11]\n",
      "  [166 101  29]\n",
      "  [180 115  31]\n",
      "  ...\n",
      "  [181 108  23]\n",
      "  [179 108  26]\n",
      "  [205 144  40]]\n",
      "\n",
      " [[116  55  17]\n",
      "  [175 110  31]\n",
      "  [181 116  30]\n",
      "  ...\n",
      "  [175 102  20]\n",
      "  [198 133  34]\n",
      "  [221 176  58]]]\n",
      "[[[152  84  21]\n",
      "  [185 110  28]\n",
      "  [197 124  31]\n",
      "  ...\n",
      "  [139  41   0]\n",
      "  [164  61   5]\n",
      "  [199 133  35]]\n",
      "\n",
      " [[145  78  18]\n",
      "  [184 109  28]\n",
      "  [197 124  31]\n",
      "  ...\n",
      "  [146  55   6]\n",
      "  [146  48   1]\n",
      "  [197 125  31]]\n",
      "\n",
      " [[136  73  18]\n",
      "  [184 109  28]\n",
      "  [197 124  30]\n",
      "  ...\n",
      "  [148  62  10]\n",
      "  [137  43   4]\n",
      "  [195 115  19]]\n",
      "\n",
      " ...\n",
      "\n",
      " [[ 55  13   6]\n",
      "  [139  77  21]\n",
      "  [177 111  27]\n",
      "  ...\n",
      "  [196 127  30]\n",
      "  [176 103  23]\n",
      "  [184 115  26]]\n",
      "\n",
      " [[ 88  38  11]\n",
      "  [166 101  29]\n",
      "  [180 115  31]\n",
      "  ...\n",
      "  [181 108  23]\n",
      "  [179 108  26]\n",
      "  [205 144  40]]\n",
      "\n",
      " [[116  55  17]\n",
      "  [175 110  31]\n",
      "  [181 116  30]\n",
      "  ...\n",
      "  [175 102  20]\n",
      "  [198 133  34]\n",
      "  [221 176  58]]]\n",
      "[[[152  84  21]\n",
      "  [185 110  28]\n",
      "  [197 124  31]\n",
      "  ...\n",
      "  [139  41   0]\n",
      "  [164  61   5]\n",
      "  [199 133  35]]\n",
      "\n",
      " [[145  78  18]\n",
      "  [184 109  28]\n",
      "  [197 124  31]\n",
      "  ...\n",
      "  [146  55   6]\n",
      "  [146  48   1]\n",
      "  [197 125  31]]\n",
      "\n",
      " [[136  73  18]\n",
      "  [184 109  28]\n",
      "  [197 124  30]\n",
      "  ...\n",
      "  [148  62  10]\n",
      "  [137  43   4]\n",
      "  [195 115  19]]\n",
      "\n",
      " ...\n",
      "\n",
      " [[ 55  13   6]\n",
      "  [139  77  21]\n",
      "  [177 111  27]\n",
      "  ...\n",
      "  [196 127  30]\n",
      "  [176 103  23]\n",
      "  [184 115  26]]\n",
      "\n",
      " [[ 88  38  11]\n",
      "  [166 101  29]\n",
      "  [180 115  31]\n",
      "  ...\n",
      "  [181 108  23]\n",
      "  [179 108  26]\n",
      "  [205 144  40]]\n",
      "\n",
      " [[116  55  17]\n",
      "  [175 110  31]\n",
      "  [181 116  30]\n",
      "  ...\n",
      "  [175 102  20]\n",
      "  [198 133  34]\n",
      "  [221 176  58]]]\n"
     ]
    },
    {
     "data": {
      "image/png": "[encoded data removed]",
      "text/plain": [
       "<Figure size 432x288 with 1 Axes>"
      ]
     },
     "metadata": {
      "needs_background": "light"
     },
     "output_type": "display_data"
    }
   ],
   "source": [
    "for i in range(len(dataList)):\n",
    "    fileName = dataList[0]\n",
    "    img = Image.open(fileName)\n",
    "\t\t# 이미지의 크기를 너비 100, 높이 200로 조정\n",
    "\t\t# --> 행은 200, 열은 100\n",
    "    img = img.resize((100, 200))\n",
    "    imgArray = np.array(img) # 이미지를 array로 바꾸기\n",
    "    print(imgArray) # 이미지의 배열을 출력\n",
    "    plt.imshow(imgArray) # pillow 라이브러리로 이미지 출력"
   ]
  },
  {
   "cell_type": "code",
   "execution_count": 42,
   "metadata": {},
   "outputs": [
    {
     "name": "stderr",
     "output_type": "stream",
     "text": [
      "Clipping input data to the valid range for imshow with RGB data ([0..1] for floats or [0..255] for integers).\n"
     ]
    },
    {
     "name": "stdout",
     "output_type": "stream",
     "text": [
      "(4, 2, 3)\n"
     ]
    },
    {
     "data": {
      "text/plain": [
       "<matplotlib.image.AxesImage at 0x1fa59289690>"
      ]
     },
     "execution_count": 42,
     "metadata": {},
     "output_type": "execute_result"
    },
    {
     "data": {
      "image/png": "[encoded data removed]",
      "text/plain": [
       "<Figure size 432x288 with 1 Axes>"
      ]
     },
     "metadata": {
      "needs_background": "light"
     },
     "output_type": "display_data"
    }
   ],
   "source": [
    "arr1 = [[[255, 0, 0], [0,255, 0]],\n",
    "[[0, 0, 255], [0, 255, 0]],\n",
    "[[0, 0, 0], [255, 255, 255]],\n",
    "[[0, 255, 255], [255, 255, 0]]]\n",
    "imgarr1 = np.array(arr1) # 리스트를 배열로 만듬\n",
    "print(np.shape(imgarr1))\n",
    "# plt.imshow(imgarr1 * [0])\n",
    "# plt.imshow(imgarr1 * [0, 0, 255])\n",
    "plt.imshow(imgarr1 * [[0, 255, 255], [0, 255, 255]])"
   ]
  },
  {
   "cell_type": "code",
   "execution_count": 43,
   "metadata": {},
   "outputs": [],
   "source": [
    "# # 폴더 하나만 복사\n",
    "# folderName = './pic'\n",
    "# newName = folderName + '복사본'\n",
    "# shutil.copytree(folderName, newName)\n",
    "\n",
    "# # for문으로 폴더 여러개 복사\n",
    "# for folderName in folderList:\n",
    "#     newName = folderName + '복사본'\n",
    "#     shutil.copytree(folderName, newName)"
   ]
  },
  {
   "cell_type": "code",
   "execution_count": 44,
   "metadata": {},
   "outputs": [],
   "source": [
    "x = np.array([[22, 3, 4], [2, 2, 3]]) # 1번 사람[x1, x2, x3] , 2번 사람[x1, x2, x3]\n",
    "y = np.array([100, 150]) # 1번 사람의 혈압 = 100, 2번사람의 혈압 = 150\n",
    "w = np.array([3, 5, 8]) # x1의 w 값 = 3, x2의 w값 = 5, x3의 w값= 8\n",
    "\n",
    "# w, y 값은 외부에서 가져옴\n",
    "# w 값은 랜덤하게 설정함\n",
    "\n",
    "y1 = x * w # ([22 * 3, 3 * 5, 4 * 8], [2 * 3, 2 * 5, 3 * 8]])\n",
    "y_hat = list() # 예측값\n",
    "for i in y1:\n",
    "    y_hat.append(i.sum())"
   ]
  }
 ],
 "metadata": {
  "interpreter": {
   "hash": "e5bc2cf9d9a3d85fb4b9cf5c2acdd222f933ac2e5b2df75a3f82eb3e684a5541"
  },
  "kernelspec": {
   "display_name": "Python 3.10.1 64-bit",
   "language": "python",
   "name": "python3"
  },
  "language_info": {
   "codemirror_mode": {
    "name": "ipython",
    "version": 3
   },
   "file_extension": ".py",
   "mimetype": "text/x-python",
   "name": "python",
   "nbconvert_exporter": "python",
   "pygments_lexer": "ipython3",
   "version": "3.10.1"
  },
  "orig_nbformat": 4
 },
 "nbformat": 4,
 "nbformat_minor": 2
}

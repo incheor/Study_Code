{
 "cells": [
  {
   "cell_type": "markdown",
   "metadata": {},
   "source": [
    "## comprehension"
   ]
  },
  {
   "cell_type": "markdown",
   "metadata": {},
   "source": [
    "## import"
   ]
  },
  {
   "cell_type": "code",
   "execution_count": 1,
   "metadata": {},
   "outputs": [],
   "source": [
    "import numpy as np\n",
    "import csv"
   ]
  },
  {
   "cell_type": "markdown",
   "metadata": {},
   "source": [
    "## list 이해"
   ]
  },
  {
   "cell_type": "code",
   "execution_count": 2,
   "metadata": {},
   "outputs": [
    {
     "name": "stdout",
     "output_type": "stream",
     "text": [
      "['서울', 977, '강남', '동대문', '강동']\n",
      "['제주', 63, '서귀포', '제주시']\n",
      "['강원', 156, '속초', '양양', '강릉', '철원']\n"
     ]
    }
   ],
   "source": [
    "sido = [['서울', 977, '강남', '동대문', '강동'],\n",
    "['제주', 63, '서귀포', '제주시'],\n",
    "['강원', 156, '속초', '양양', '강릉', '철원']]\n",
    "\n",
    "print(sido[0])\n",
    "print(sido[1])\n",
    "print(sido[2])"
   ]
  },
  {
   "cell_type": "code",
   "execution_count": 3,
   "metadata": {},
   "outputs": [
    {
     "name": "stdout",
     "output_type": "stream",
     "text": [
      "<class 'list'>\n",
      "(3,)\n",
      "(3,)\n"
     ]
    },
    {
     "name": "stderr",
     "output_type": "stream",
     "text": [
      "C:\\DEV\\Python\\Python310\\lib\\site-packages\\numpy\\core\\fromnumeric.py:2007: VisibleDeprecationWarning: Creating an ndarray from ragged nested sequences (which is a list-or-tuple of lists-or-tuples-or ndarrays with different lengths or shapes) is deprecated. If you meant to do this, you must specify 'dtype=object' when creating the ndarray.\n",
      "  result = asarray(a).shape\n",
      "C:\\Users\\admin\\AppData\\Local\\Temp\\ipykernel_11932\\3240069904.py:6: VisibleDeprecationWarning: Creating an ndarray from ragged nested sequences (which is a list-or-tuple of lists-or-tuples-or ndarrays with different lengths or shapes) is deprecated. If you meant to do this, you must specify 'dtype=object' when creating the ndarray.\n",
      "  print(np.shape(np.array(sido)))\n"
     ]
    }
   ],
   "source": [
    "print(type(sido))\n",
    "\n",
    "# 이 예시는 2차원 행렬이기 때문에 np.shape() 하면 행과 열이 나와야 하지만\n",
    "# 열의 갯수가 서로 다르기 떄문에 행만 출력됨\n",
    "print(np.shape(sido))\n",
    "print(np.shape(np.array(sido)))"
   ]
  },
  {
   "cell_type": "code",
   "execution_count": 4,
   "metadata": {},
   "outputs": [
    {
     "data": {
      "text/plain": [
       "(3, 4)"
      ]
     },
     "execution_count": 4,
     "metadata": {},
     "output_type": "execute_result"
    }
   ],
   "source": [
    "# 이렇게 열의 갯수를 같게 하면 행과 열이 모두 나옴\n",
    "sidoTmp = [['서울', 977, '강남', '동대문'],\n",
    "['제주', 63, ' 서귀포', '제주시'],\n",
    "['강원', 156, '속초', '양양']]\n",
    "\n",
    "np.shape(sidoTmp)"
   ]
  },
  {
   "cell_type": "code",
   "execution_count": 5,
   "metadata": {},
   "outputs": [
    {
     "name": "stdout",
     "output_type": "stream",
     "text": [
      "서울\n",
      "제주\n",
      "강원\n"
     ]
    }
   ],
   "source": [
    "print(sido[0][0])\n",
    "print(sido[1][0])\n",
    "print(sido[2][0])"
   ]
  },
  {
   "cell_type": "code",
   "execution_count": 6,
   "metadata": {},
   "outputs": [
    {
     "name": "stdout",
     "output_type": "stream",
     "text": [
      "[977, '강남', '동대문', '강동']\n",
      "[63, '서귀포', '제주시']\n",
      "[156, '속초', '양양', '강릉', '철원']\n"
     ]
    }
   ],
   "source": [
    "print(sido[0][1:5]) # 서울의 인구 및 지역 출력\n",
    "print(sido[1][1:4]) # 제주의 인구와 지역을 출력\n",
    "print(sido[2][1:6]) # 강원의 인구와 지역을 출력"
   ]
  },
  {
   "cell_type": "code",
   "execution_count": 7,
   "metadata": {},
   "outputs": [
    {
     "name": "stdout",
     "output_type": "stream",
     "text": [
      "[977, '강남', '동대문', '강동']\n",
      "[63, '서귀포', '제주시']\n",
      "[156, '속초', '양양', '강릉', '철원']\n"
     ]
    }
   ],
   "source": [
    "# 이렇게도 출력할 수 있음\n",
    "print(sido[0][1:len(sido[0])])\n",
    "print(sido[1][1:len(sido[1])])\n",
    "print(sido[2][1:len(sido[2])])"
   ]
  },
  {
   "cell_type": "code",
   "execution_count": 8,
   "metadata": {},
   "outputs": [],
   "source": [
    "def title(x):\n",
    "    if x == 0:\n",
    "        print('\\n----> for 변수 in range(인덱스번호)----') # \\n : 한줄 띄우기\n",
    "    else:\n",
    "        print('\\n----> for 변수 in 객체요소----')"
   ]
  },
  {
   "cell_type": "code",
   "execution_count": 9,
   "metadata": {},
   "outputs": [
    {
     "name": "stdout",
     "output_type": "stream",
     "text": [
      "\n",
      "----> for 변수 in range(인덱스번호)----\n",
      "[977, '강남', '동대문', '강동']\n",
      "[63, '서귀포', '제주시']\n",
      "[156, '속초', '강릉', '강릉', '철원']\n",
      "\n",
      "----> for 변수 in 객체요소----\n",
      "[977, '강남', '동대문', '강동']\n",
      "[63, '서귀포', '제주시']\n",
      "[156, '속초', '강릉', '강릉', '철원']\n"
     ]
    }
   ],
   "source": [
    "sido = [['서울', 977, '강남', '동대문', '강동'],\n",
    "['제주', 63, '서귀포', '제주시'],\n",
    "['강원', 156, '속초', '강릉', '강릉', '철원']]\n",
    "\n",
    "title(0)\n",
    "for i in range(3): # for i in range(len(sido))\n",
    "    print(sido[i][1:]) # sido[i][1:len(sido[i])]\n",
    "\n",
    "title(1)\n",
    "for i in sido:\n",
    "    print(i[1:])"
   ]
  },
  {
   "cell_type": "code",
   "execution_count": 10,
   "metadata": {},
   "outputs": [
    {
     "name": "stdout",
     "output_type": "stream",
     "text": [
      "\n",
      "----> for 변수 in range(인덱스번호)----\n",
      "[156, '속초', '강릉', '강릉', '철원']\n",
      "\n",
      "----> for 변수 in 객체요소----\n",
      "[156, '속초', '강릉', '강릉', '철원']\n"
     ]
    }
   ],
   "source": [
    "title(0)\n",
    "search = '강원'\n",
    "for i in range(3):\n",
    "    count = len(sido[i])\n",
    "    if search == sido[i][0]:\n",
    "        print(sido[i][1:count])\n",
    "\n",
    "title(1)\n",
    "search = '강원'\n",
    "for i in sido:\n",
    "    if i[0] == search:\n",
    "        print(i[1:])"
   ]
  },
  {
   "cell_type": "code",
   "execution_count": 11,
   "metadata": {},
   "outputs": [
    {
     "name": "stdout",
     "output_type": "stream",
     "text": [
      "\n",
      "----> for 변수 in range(인덱스번호)----\n",
      "검색지역은: 강원\n",
      "인구 수는: 156\n",
      "지역은: ['속초', '강릉', '강릉', '철원']\n",
      "\n",
      "----> for 변수 in 객체요소----\n",
      "검색지역은: 강원\n",
      "인구 수는: 156\n",
      "지역은: ['속초', '강릉', '강릉', '철원']\n"
     ]
    }
   ],
   "source": [
    "search = '강원'\n",
    "\n",
    "title(0)\n",
    "for i in range(3):\n",
    "    count = len(sido[i])\n",
    "    if search == sido[i][0]:\n",
    "        print('검색지역은:', sido[i][0])\n",
    "        print('인구 수는:', str(sido[i][1]))\n",
    "        print('지역은:', str(sido[i][2:]))\n",
    "\n",
    "title(1)\n",
    "for i in sido:\n",
    "    if i[0] == search:\n",
    "        print('검색지역은:', i[0])\n",
    "        print('인구 수는:', str(i[1]))\n",
    "        print('지역은:', str(i[2:]))"
   ]
  },
  {
   "cell_type": "markdown",
   "metadata": {},
   "source": [
    "## 리스트 생성시 시도, 인구 수, 지역 중 지역을 내불 리스트로 만들기"
   ]
  },
  {
   "cell_type": "code",
   "execution_count": 12,
   "metadata": {},
   "outputs": [
    {
     "name": "stdout",
     "output_type": "stream",
     "text": [
      "['강남', '동대문', '강동']\n",
      "['서귀포', '제주시']\n",
      "['속초', '양양', '강릉', '철원']\n"
     ]
    }
   ],
   "source": [
    "sido = [['서울', 977, ['강남', '동대문', '강동']],\n",
    "['제주', 63, ['서귀포', '제주시']],\n",
    "['강원', 156, ['속초', '양양', '강릉', '철원']]]\n",
    "\n",
    "print(sido[0][2])\n",
    "print(sido[1][2])\n",
    "print(sido[2][2])"
   ]
  },
  {
   "cell_type": "code",
   "execution_count": 13,
   "metadata": {},
   "outputs": [
    {
     "name": "stdout",
     "output_type": "stream",
     "text": [
      "검색지역은: 강원\n",
      "인구 수는: 156\n",
      "지역은: ['속초', '양양', '강릉', '철원']\n"
     ]
    }
   ],
   "source": [
    "search = '강원'\n",
    "\n",
    "for i in range(3):\n",
    "    if search == sido[i][0]:\n",
    "        print('검색지역은:', sido[i][0])\n",
    "        print('인구 수는:', str(sido[i][1]))\n",
    "        print('지역은:', str(sido[i][2]))"
   ]
  },
  {
   "cell_type": "markdown",
   "metadata": {},
   "source": [
    "## CSV파일을 리스트로 읽기"
   ]
  },
  {
   "cell_type": "code",
   "execution_count": 14,
   "metadata": {},
   "outputs": [
    {
     "name": "stdout",
     "output_type": "stream",
     "text": [
      "[['서울', '977', '강남', '동대문', '강동', ''], ['제주', '63', '서귀포', '제주시', '', ''], ['강원', '156', '속초', '양양', '강릉', '철원']]\n",
      "['서울', '977', '강남', '동대문', '강동', '']\n",
      "['제주', '63', '서귀포', '제주시', '', '']\n",
      "['강원', '156', '속초', '양양', '강릉', '철원']\n"
     ]
    }
   ],
   "source": [
    "listData = []\n",
    "file = open('지역.csv', 'r')\n",
    "\n",
    "csvfile = csv.reader(file)\n",
    "\n",
    "for item in csvfile:\n",
    "     listData.append(item)\n",
    "\n",
    "print(listData)\n",
    "print(listData[0])\n",
    "print(listData[1])\n",
    "print(listData[2])"
   ]
  },
  {
   "cell_type": "code",
   "execution_count": 15,
   "metadata": {},
   "outputs": [
    {
     "name": "stdout",
     "output_type": "stream",
     "text": [
      "<class 'list'>\n",
      "<class 'list'>\n",
      "<class 'str'>\n"
     ]
    }
   ],
   "source": [
    "print(type(listData))\n",
    "print(type(listData[0]))\n",
    "print(type(listData[0][0]))"
   ]
  },
  {
   "cell_type": "code",
   "execution_count": 16,
   "metadata": {},
   "outputs": [
    {
     "name": "stdout",
     "output_type": "stream",
     "text": [
      "['서울', '977', '강남', '동대문', '강동', ''] <class 'list'>\n",
      "서울 <class 'str'>\n",
      "977 <class 'str'>\n",
      "강남 <class 'str'>\n",
      "동대문 <class 'str'>\n",
      "강동 <class 'str'>\n",
      " <class 'str'>\n",
      "['제주', '63', '서귀포', '제주시', '', ''] <class 'list'>\n",
      "제주 <class 'str'>\n",
      "63 <class 'str'>\n",
      "서귀포 <class 'str'>\n",
      "제주시 <class 'str'>\n",
      " <class 'str'>\n",
      " <class 'str'>\n",
      "['강원', '156', '속초', '양양', '강릉', '철원'] <class 'list'>\n",
      "강원 <class 'str'>\n",
      "156 <class 'str'>\n",
      "속초 <class 'str'>\n",
      "양양 <class 'str'>\n",
      "강릉 <class 'str'>\n",
      "철원 <class 'str'>\n"
     ]
    }
   ],
   "source": [
    "for row in listData:\n",
    "    print(row, type(row))\n",
    "    for col in row:\n",
    "        print(col, type(col))"
   ]
  },
  {
   "cell_type": "code",
   "execution_count": null,
   "metadata": {},
   "outputs": [],
   "source": []
  }
 ],
 "metadata": {
  "interpreter": {
   "hash": "e5bc2cf9d9a3d85fb4b9cf5c2acdd222f933ac2e5b2df75a3f82eb3e684a5541"
  },
  "kernelspec": {
   "display_name": "Python 3.10.1 64-bit",
   "language": "python",
   "name": "python3"
  },
  "language_info": {
   "codemirror_mode": {
    "name": "ipython",
    "version": 3
   },
   "file_extension": ".py",
   "mimetype": "text/x-python",
   "name": "python",
   "nbconvert_exporter": "python",
   "pygments_lexer": "ipython3",
   "version": "3.10.1"
  },
  "orig_nbformat": 4
 },
 "nbformat": 4,
 "nbformat_minor": 2
}

{
 "cells": [
  {
   "cell_type": "markdown",
   "metadata": {},
   "source": [
    "## book rentalshop on Jupyter NoteBook"
   ]
  },
  {
   "cell_type": "markdown",
   "metadata": {},
   "source": [
    "#### 임포트 해주기\n",
    "> import cx_Oracle as ora"
   ]
  },
  {
   "cell_type": "code",
   "execution_count": 1,
   "metadata": {},
   "outputs": [],
   "source": [
    "import cx_Oracle as ora"
   ]
  },
  {
   "cell_type": "markdown",
   "metadata": {},
   "source": [
    "## 함수 만들기\n",
    "#### DB연결 함수\n",
    "호출방법\n",
    "> myconn()\n",
    "> 또는 myconn = myconn()"
   ]
  },
  {
   "cell_type": "code",
   "execution_count": 4,
   "metadata": {},
   "outputs": [],
   "source": [
    "def myconn():\n",
    "    dsn = ora.makedsn('localhost', 1521, service_name='orcl')\n",
    "    conn = ora.connect(user='scott', password='tiger', dsn=dsn, encoding='utf-8')\n",
    "    return conn"
   ]
  },
  {
   "cell_type": "markdown",
   "metadata": {},
   "source": [
    "#### divtbl 전체 조회 함수(SELECT)\n",
    "호출방법\n",
    "> getAllDataFromDivtbl(conn) # conn은 연결 객체"
   ]
  },
  {
   "cell_type": "code",
   "execution_count": 5,
   "metadata": {},
   "outputs": [],
   "source": [
    "# 1. divtbl에서 데이터 조회 : SELECT\n",
    "def getAllDataFromDivtbl(conn):\n",
    "    cur = conn.cursor()\n",
    "    query = 'SELECT * FROM divtbl'\n",
    "    for row in cur.execute(query):\n",
    "        print(row)"
   ]
  },
  {
   "cell_type": "markdown",
   "metadata": {},
   "source": [
    "#### divtbl에 신규 장르 정보 입력(INSERT)\n",
    "호출방법\n",
    "\n",
    "tuple = (division, names)\n",
    "> setDataIntoDivtbl(conn, tuple)"
   ]
  },
  {
   "cell_type": "code",
   "execution_count": 6,
   "metadata": {},
   "outputs": [],
   "source": [
    "# 2. divtbl에 새로운 데이터 입력 : INSERT\n",
    "def setDataIntoDivtbl(conn, tup):\n",
    "    cur = conn.cursor()\n",
    "    query = '''INSERT INTO divtbl (division, names) \n",
    "                VALUES (:1, :2) '''\n",
    "    cur.execute(query, tup)\n",
    "    cur.close()\n",
    "    conn.commit()"
   ]
  },
  {
   "cell_type": "markdown",
   "metadata": {},
   "source": [
    "#### membertbl에서 회원 정보 조회(SELECT)\n",
    "호출방법\n",
    "> getSomeDataFromMembertbl(conn)"
   ]
  },
  {
   "cell_type": "code",
   "execution_count": 16,
   "metadata": {},
   "outputs": [],
   "source": [
    "# 3. membertbl에서 데이터 조회 : SELECT\n",
    "def getSomeDataFromMembertbl(conn):\n",
    "    cur = conn.cursor()\n",
    "    query = '''SELECT names, levels, addr, mobile, email \n",
    "                 FROM membertbl\n",
    "                WHERE addr LIKE '서울%'\n",
    "                  AND UPPER(email) LIKE '%@NAVER.COM'\n",
    "                ORDER BY idx DESC'''\n",
    "    for row in cur.execute(query):\n",
    "        print(row)\n",
    "    cur.close()"
   ]
  },
  {
   "cell_type": "markdown",
   "metadata": {},
   "source": [
    "#### membertbl에 새로운 회원 정보 입력(INSERT)\n",
    "호출방법\n",
    "> setNewMemberIntoMembertbl(conn, tuple)\n"
   ]
  },
  {
   "cell_type": "code",
   "execution_count": 19,
   "metadata": {},
   "outputs": [],
   "source": [
    "# 4. membertbl에 새 데이터 입력 : INSERT\n",
    "def setNewMemberIntoMembertbl(conn, tup):\n",
    "    cur = conn.cursor()\n",
    "    query = '''SELECT ROWNUM, idx\n",
    "                FROM (\n",
    "                    SELECT idx FROM membertbl\n",
    "                    ORDER BY idx DESC  \n",
    "                        ) \n",
    "                WHERE ROWNUM = 1'''\n",
    "    cur.execute(query)\n",
    "    idx = cur.fetchone() # 해당 테이블에 데이터가 하나도 없을 경우에는 예외가 발생할 수도 있다\n",
    "    if idx is None: # 데이터가 없을 경우 (None)\n",
    "        idx = 0 # idx에 0 넣어주기\n",
    "    else: # None이 아니라면\n",
    "        idx = idx[1] # 두번째 idx에 두번째 값인 인덱스 값을 넣어주기 \n",
    "\n",
    "    intup = (idx + 1, tup[0], tup[1], tup[2], tup[3])\n",
    "\n",
    "    query = '''INSERT INTO membertbl \n",
    "                        (idx, names, levels, userid, password)\n",
    "                VALUES (:1, :2, :3, :4, :5)'''\n",
    "    cur.execute(query, intup)\n",
    "    cur.close()\n",
    "    conn.commit()"
   ]
  },
  {
   "cell_type": "markdown",
   "metadata": {},
   "source": [
    "#### membertbl의 데이터 수정(UPDATE)\n",
    "호출방법\n",
    "> setChangeMemberFromMembertbl(conn, tuple)"
   ]
  },
  {
   "cell_type": "code",
   "execution_count": 22,
   "metadata": {},
   "outputs": [],
   "source": [
    "# 5. membertbl 데이터를 수정 : UPDATE\n",
    "def setChangeMemberFromMembertbl(conn, tup):\n",
    "    cur = conn.cursor()\n",
    "    query = '''UPDATE membertbl\n",
    "                SET addr = :1\n",
    "                , mobile = :2\n",
    "                , email = :3\n",
    "                WHERE idx = :4'''\n",
    "    cur.execute(query, tup)\n",
    "    conn.commit()"
   ]
  },
  {
   "cell_type": "markdown",
   "metadata": {},
   "source": [
    "#### divtbl에 임의 데이터 삭제(DELETE)\n",
    "호출방법\n",
    "> deleteDivision(conn, division)"
   ]
  },
  {
   "cell_type": "code",
   "execution_count": 26,
   "metadata": {},
   "outputs": [],
   "source": [
    "def deleteDivision(conn, division):\n",
    "    cur = conn.cursor()\n",
    "    query = 'DELETE FROM divtbl WHERE division = :1'\n",
    "    cur.execute(query, (division,))\n",
    "    conn.commit()"
   ]
  },
  {
   "cell_type": "markdown",
   "metadata": {},
   "source": [
    "#### 책 대여 프로그램 시작"
   ]
  },
  {
   "cell_type": "code",
   "execution_count": 7,
   "metadata": {},
   "outputs": [
    {
     "name": "stdout",
     "output_type": "stream",
     "text": [
      "접속\n"
     ]
    }
   ],
   "source": [
    "scott_conn = myconn()\n",
    "print('접속')"
   ]
  },
  {
   "cell_type": "markdown",
   "metadata": {},
   "source": [
    "#### 책 장르 정보 조회\n",
    "> getAllDataFromDivtbl(scott_conn)"
   ]
  },
  {
   "cell_type": "code",
   "execution_count": 18,
   "metadata": {},
   "outputs": [
    {
     "name": "stdout",
     "output_type": "stream",
     "text": [
      "--책 장르 정보 조회--\n",
      "('B001', '공포/스릴러')\n",
      "('B002', '로맨스')\n",
      "('B003', '무협')\n",
      "('B004', '전쟁/역사')\n",
      "('B005', '추리')\n",
      "('B006', 'SF/판타지')\n",
      "('I001', '프로그래밍')\n",
      "('I003', '네트워크')\n",
      "('I005', '정보보안')\n",
      "('I101', '이름 몰라')\n",
      "('I102', '이름 몰라')\n"
     ]
    }
   ],
   "source": [
    "    print('--책 장르 정보 조회--')\n",
    "    getAllDataFromDivtbl(scott_conn)"
   ]
  },
  {
   "cell_type": "markdown",
   "metadata": {},
   "source": [
    "#### 신규 장르 정보 입력\n",
    "> setDataIntoDivtbl(scott_conn, tup)"
   ]
  },
  {
   "cell_type": "code",
   "execution_count": 13,
   "metadata": {},
   "outputs": [
    {
     "name": "stdout",
     "output_type": "stream",
     "text": [
      "--책 장르 정보 추가--\n",
      "('B001', '공포/스릴러')\n",
      "('B002', '로맨스')\n",
      "('B003', '무협')\n",
      "('B004', '전쟁/역사')\n",
      "('B005', '추리')\n",
      "('B006', 'SF/판타지')\n",
      "('I001', '프로그래밍')\n",
      "('I003', '네트워크')\n",
      "('I005', '정보보안')\n",
      "('I101', '이름 몰라')\n",
      "('I102', '이름 몰라')\n",
      "--정보를 입력했습니다--\n"
     ]
    }
   ],
   "source": [
    "    print('--책 장르 정보 추가--')\n",
    "    division = 'I102'\n",
    "    names = '이름 몰라'\n",
    "    tup = (division, names)\n",
    "    setDataIntoDivtbl(scott_conn, tup)\n",
    "    getAllDataFromDivtbl(scott_conn)\n",
    "    print('--정보를 입력했습니다--')"
   ]
  },
  {
   "cell_type": "markdown",
   "metadata": {},
   "source": [
    "#### 회원 정보 조회\n",
    "> getSomeDataFromMembertbl(scott_conn)"
   ]
  },
  {
   "cell_type": "code",
   "execution_count": 17,
   "metadata": {},
   "outputs": [
    {
     "name": "stdout",
     "output_type": "stream",
     "text": [
      "--회원의 정보를 조회--\n",
      "('김수연', 'A', '서울시 강서구', '010-7625-0676', 'KSY@NAVER.COM')\n",
      "('김얼', 'A', '서울시 종로구', '010-5341-4736', 'KE91@NAVER.COM')\n",
      "('홍건의', 'D', '서울시 성동구', '010-9341-0128', 'HGE@NAVER.COM')\n",
      "('박상섭', 'C', '서울시 노원구', '010-5341-0128', 'PSS@NAVER.COM')\n",
      "('이규형', 'A', '서울시 금천구', '010-2967-1016', 'LGH@NAVER.COM')\n"
     ]
    }
   ],
   "source": [
    "    print('--회원의 정보를 조회--')\n",
    "    getSomeDataFromMembertbl(scott_conn)"
   ]
  },
  {
   "cell_type": "markdown",
   "metadata": {},
   "source": [
    "#### 신규 회원 정보 입력\n",
    "> setNewMemberIntoMembertbl(scott_conn, tup)"
   ]
  },
  {
   "cell_type": "code",
   "execution_count": 21,
   "metadata": {},
   "outputs": [
    {
     "name": "stdout",
     "output_type": "stream",
     "text": [
      "--신규 회원 입력--\n",
      "--신규 회원 저장 성공--\n"
     ]
    }
   ],
   "source": [
    "    print('--신규 회원 입력--')\n",
    "    names = 'go'\n",
    "    levels = 'A'\n",
    "    userid = 'gogogo'\n",
    "    password = 1541\n",
    "    tup = (names, levels, userid, password)\n",
    "    setNewMemberIntoMembertbl(scott_conn, tup)\n",
    "    print('--신규 회원 저장 성공--')"
   ]
  },
  {
   "cell_type": "markdown",
   "metadata": {},
   "source": [
    "#### 회원정보 수정\n",
    "> deleteDivision(conn, division)"
   ]
  },
  {
   "cell_type": "code",
   "execution_count": 25,
   "metadata": {},
   "outputs": [
    {
     "name": "stdout",
     "output_type": "stream",
     "text": [
      "--회원 정보 수정--\n",
      "--기존회원 정보 수정 완료--\n"
     ]
    }
   ],
   "source": [
    "    print('--회원 정보 수정--')\n",
    "    idx = 28\n",
    "    addr = '뉴욕시티'\n",
    "    mobile = 000-000-000\n",
    "    email = 'new_york_jo_a'\n",
    "    tup = (addr, mobile, email, idx) # idx가 마지막인 이유는 마지막에 쓰는 WHERE절에 가장 처음 입력한 idx가 들어가기 때문임\n",
    "    setChangeMemberFromMembertbl(scott_conn, tup)\n",
    "    print('--기존회원 정보 수정 완료--')"
   ]
  },
  {
   "cell_type": "markdown",
   "metadata": {},
   "source": [
    "#### 책 장르 정보 삭제\n",
    "> deleteDivision(scott_conn, division)"
   ]
  },
  {
   "cell_type": "code",
   "execution_count": 28,
   "metadata": {},
   "outputs": [
    {
     "name": "stdout",
     "output_type": "stream",
     "text": [
      "--책 장르 정보 삭제--\n",
      "--삭제 성공--\n"
     ]
    }
   ],
   "source": [
    "    print('--책 장르 정보 삭제--')\n",
    "    division = 'I102'\n",
    "    deleteDivision(scott_conn, division)\n",
    "    print('--삭제 성공--')"
   ]
  }
 ],
 "metadata": {
  "interpreter": {
   "hash": "e5bc2cf9d9a3d85fb4b9cf5c2acdd222f933ac2e5b2df75a3f82eb3e684a5541"
  },
  "kernelspec": {
   "display_name": "Python 3.10.1 64-bit",
   "language": "python",
   "name": "python3"
  },
  "language_info": {
   "codemirror_mode": {
    "name": "ipython",
    "version": 3
   },
   "file_extension": ".py",
   "mimetype": "text/x-python",
   "name": "python",
   "nbconvert_exporter": "python",
   "pygments_lexer": "ipython3",
   "version": "3.10.1"
  },
  "orig_nbformat": 4
 },
 "nbformat": 4,
 "nbformat_minor": 2
}
